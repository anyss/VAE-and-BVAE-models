{
 "cells": [
  {
   "cell_type": "code",
   "execution_count": 1,
   "metadata": {},
   "outputs": [
    {
     "name": "stderr",
     "output_type": "stream",
     "text": [
      "/home/aneta/anaconda3/envs/buba/lib/python3.8/site-packages/pytorch_lightning/metrics/__init__.py:43: LightningDeprecationWarning: `pytorch_lightning.metrics.*` module has been renamed to `torchmetrics.*` and split off to its own package (https://github.com/PyTorchLightning/metrics) since v1.3 and will be removed in v1.5\n",
      "  rank_zero_deprecation(\n"
     ]
    }
   ],
   "source": [
    "import torch\n",
    "import os\n",
    "from VAE_c_gen import BetaVAE\n",
    "import pandas as pd\n",
    "import sklearn\n",
    "import glob, random\n",
    "import numpy as np\n",
    "import matplotlib.pyplot as plt\n",
    "import torchvision.models as models\n",
    "import seaborn as sn\n",
    "import random\n",
    "import math\n",
    "import pickle\n",
    "from torch.autograd import Variable\n",
    "\n",
    "from torch import nn\n",
    "from torch.nn import functional as F\n",
    "\n",
    "from pytorch_lightning import LightningModule, Trainer\n",
    "from pytorch_lightning.loggers import TensorBoardLogger\n",
    "from torch.optim import SGD, AdamW, Adagrad  # Supported Optimizers\n",
    "from torch.utils.data import DataLoader\n",
    "\n",
    "from multiprocessing import cpu_count\n",
    "from numpy.random import randint\n",
    "\n",
    "import MLmodels_c_gen as m\n",
    "\n",
    "from math import floor\n",
    "\n",
    "# pathways to data files\n",
    "#trained_model_pw = \"r_b3_c2/tb_logs/BVAE_trial/version_0/checkpoints/epoch=199-step=10599.ckpt\"\n",
    "#trained_model_pw = \"r_np1_c2/tb_logs/BVAE_trial/version_0/checkpoints/epoch=199-step=18199.ckpt\"\n",
    "trained_model_pw = \"r_np3_c2/tb_logs/BVAE_trial/version_0/checkpoints/epoch=199-step=10599.ckpt\"\n",
    "ds_b3_c2 = \"./peptide/b3_c2.fasta\"\n",
    "ds_np1_c2 = \"./peptide/np1_c2.fasta\"\n",
    "ds_np2_c2 = \"./peptide/np2_c2.fasta\"\n",
    "ds_np3_c2 = \"./peptide/np3_c2.fasta\"\n",
    "\n",
    "#Configuration\n",
    "con = {\"chem_type\": \"pept\", #pept or dna\n",
    "              \"datatype\": None, #if  chem_type is pept, fill in None (dna data analysed before were \"HCB20\")\n",
    "              \"in_channels\": 1,\n",
    "              \"latent_dim\": 50,\n",
    "              \"beta\": 5,  # # only used if loss_type == \"H\", beta = 1 is standard VAE\n",
    "              \"gamma\": 1,  # only used if loss_type == \"B\"\n",
    "              \"hidden_dims\": [8, 16, 32, 64, 512],\n",
    "              \"max_capacity\": 25,  # only used if loss_type == \"B\"\n",
    "              \"capacity_max_iter\": 1e5,  # only used if loss_type == \"B\"\n",
    "              \"loss_type\": \"H\",  # B or H\n",
    "              \"data_worker_num\": 6,\n",
    "              \"optimizer\": \"AdamW\",\n",
    "              \"lr\": 1e-3,\n",
    "              \"seed\": randint(0, 100000, 1)[0],\n",
    "              \"batch_size\": 1000,\n",
    "              \"replicas\": 4,  # Number of samples for validation step\n",
    "              \"epochs\": 200,\n",
    "              \"attention_layers\": False, # This doesn't quite work yet\n",
    "              \"data_file\": ds_np3_c2\n",
    "                }\n"
   ]
  },
  {
   "cell_type": "code",
   "execution_count": 2,
   "metadata": {},
   "outputs": [],
   "source": [
    "def predict_vae_beta(dataloader, rd):\n",
    "    xpss = []\n",
    "    inputss = []\n",
    "    n=0\n",
    "    for i, batch in enumerate(dataloader):\n",
    "        n=n+1\n",
    "        seqs, ohe, labels = batch\n",
    "        seq_aves = []\n",
    "        pred_aves = []\n",
    "        replicas = 2\n",
    "        for _ in range(replicas):\n",
    "            recon_x, inputs, mu, log_var, encode_attn_maps, decode_attn_maps = model(ohe)\n",
    "            seq_aves.append(recon_x)\n",
    "        xp = torch.mean(torch.stack(seq_aves, dim=0), dim=0)\n",
    "        \n",
    "        #xp_rn = reshape_normalize(xp)\n",
    "        #inputs_rn = reshape_normalize(inputs)\n",
    "        \n",
    "        #rd_result = get_results(xp_rn,inputs_rn)\n",
    "        rd_result = get_results(xp,inputs)\n",
    "    \n",
    "        torch.save(rd_result,'results%s_%i.pt'%(rd,i))\n",
    "    return n\n",
    "\n",
    "def predict_vae_beta2(dataloader, rd):\n",
    "    xpss = []\n",
    "    inputss = []\n",
    "    n=0\n",
    "    for i, batch in enumerate(dataloader):\n",
    "        n=n+1\n",
    "        seqs, ohe = batch\n",
    "        seq_aves = []\n",
    "        pred_aves = []\n",
    "        replicas = 2\n",
    "        for _ in range(replicas):\n",
    "            recon_x, inputs, mu, log_var, encode_attn_maps, decode_attn_maps = model(ohe)\n",
    "            seq_aves.append(recon_x)\n",
    "        xp = torch.mean(torch.stack(seq_aves, dim=0), dim=0)\n",
    "        \n",
    "        #xp_rn = reshape_normalize(xp)\n",
    "        #inputs_rn = reshape_normalize(inputs)\n",
    "        \n",
    "        #rd_result = get_results(xp_rn,inputs_rn)\n",
    "        rd_result = get_results(xp,inputs)\n",
    "    \n",
    "        torch.save(rd_result,'results%s_%i.pt'%(rd,i))\n",
    "    return n\n",
    "\n",
    "def load_back_tensors(n,tensor_file,td_vd):\n",
    "    tnsr_all = []\n",
    "    for k in range(0,n):\n",
    "        tnsr = torch.load(tensor_file%(td_vd,k))\n",
    "        tnsr_all += tnsr\n",
    "        os.remove(tensor_file%(td_vd,k)) \n",
    "    return(tnsr_all)  \n",
    "\n",
    "#Function to create the Data loader\n",
    "def create_dataloader(random_set):\n",
    "    # Load data into dictionaries so we can make them pandas dataframes\n",
    "    randict = {'sequence':list(random_set.keys()), 'binary':list(random_set.values())}\n",
    "    # Load dictionarie into pandas dataframe\n",
    "    _randdict = pd.DataFrame(randict)\n",
    "    #Make pytorch reader (same is done for training and verification data in each model)\n",
    "    rand_reader = m.AAReader(_randdict,shuffle=False) #change for DNA\n",
    "    # Make Data loader\n",
    "    rand_loader = torch.utils.data.DataLoader(\n",
    "        rand_reader,\n",
    "        batch_size=500, #1000\n",
    "        collate_fn=m.my_collate,\n",
    "        shuffle=False)\n",
    "    return(rand_loader)\n",
    "\n",
    "#Code from helper_tools.py\n",
    "#Compute log probability of a particular mutant sequence from a pwm and a one-hot encoding\n",
    "def compute_log_probability(one_hot_seq,pwm):\n",
    "    prod_mat=np.matmul(one_hot_seq.T,pwm)\n",
    "    #print(prod_mat)\n",
    "    #log_prod_mat=np.log(prod_mat)\n",
    "    sum_diag=np.trace(prod_mat)\n",
    "    log_sum_diag=np.log(sum_diag)\n",
    "    return log_sum_diag\n",
    "\n",
    "def get_results(xps,inps):\n",
    "    lst = []        \n",
    "    for i in range(len(xps)):\n",
    "        log_prob = compute_log_probability(inps[i][0].numpy(),xps[i][0].detach().numpy())\n",
    "        lst.append(log_prob)\n",
    "    return lst"
   ]
  },
  {
   "cell_type": "code",
   "execution_count": 3,
   "metadata": {},
   "outputs": [
    {
     "name": "stdout",
     "output_type": "stream",
     "text": [
      "seqlen 45\n",
      "convpar 60\n",
      "BATCH SIZE 1000\n",
      "pept\n",
      "train len 52762\n",
      "validation len 17588\n",
      "BATCH SIZE 1000\n"
     ]
    }
   ],
   "source": [
    "#load model\n",
    "model = BetaVAE(con, debug=False)\n",
    "print(model.chem_type)\n",
    "\n",
    "checkpoint = torch.load(trained_model_pw,map_location=torch.device('cpu')) \n",
    "model.load_state_dict(checkpoint['state_dict'])  # load checkpoint file\n",
    "model.prepare_data() "
   ]
  },
  {
   "cell_type": "markdown",
   "metadata": {},
   "source": [
    "## Generate_new function"
   ]
  },
  {
   "cell_type": "code",
   "execution_count": 4,
   "metadata": {},
   "outputs": [],
   "source": [
    "new_seqs, aten_maps = model.generate_new()"
   ]
  },
  {
   "cell_type": "code",
   "execution_count": 5,
   "metadata": {},
   "outputs": [],
   "source": [
    "id_to_base = {\n",
    "     0:\"A\",\n",
    "     1:\"R\",\n",
    "     2:\"N\",\n",
    "     3:\"D\",\n",
    "     4:\"C\",\n",
    "     5:\"E\",\n",
    "     6:\"Q\",\n",
    "     7:\"G\",\n",
    "     8:\"H\",\n",
    "     9:\"I\",\n",
    "     10:\"L\",\n",
    "     11:\"K\",\n",
    "     12:\"M\",\n",
    "     13:\"F\",\n",
    "     14:\"P\",\n",
    "     15:\"S\",\n",
    "     16:\"T\",\n",
    "     17:\"W\",\n",
    "     18:\"Y\",\n",
    "     19:\"V\",\n",
    "     20:\"-\"}"
   ]
  },
  {
   "cell_type": "code",
   "execution_count": 7,
   "metadata": {},
   "outputs": [],
   "source": [
    "h=0\n",
    "g=0\n",
    "for batch in range(5):\n",
    "    aseq = []\n",
    "    for i in range(h,h+1000): \n",
    "        oseq = []\n",
    "        for pos in range(len(new_seqs[0][0][0])): #45\n",
    "            ps = []\n",
    "            for ak in range(len(new_seqs[0][0])): #21\n",
    "                ps.append(float(new_seqs[i][0][ak][pos]))\n",
    "            oseq.append(ps)\n",
    "        oseq = pd.DataFrame(oseq)\n",
    "        aseq.append(oseq)\n",
    "    torch.save(aseq,'aseq%s_%i.pt'%(\"gd\",g))\n",
    "    h = h+1000\n",
    "    g = g+1\n",
    "\n",
    "aseq = load_back_tensors(5,'aseq%s_%i.pt',\"gd\")\n",
    "\n",
    "#ngs = []\n",
    "gener_set = {}\n",
    "for k in aseq:\n",
    "    df = k\n",
    "    qm = np.zeros_like(df.values)\n",
    "    qm[np.arange(len(df)), df.values.argmax(1)] = 1\n",
    "\n",
    "    df1 = pd.DataFrame(qm, columns = df.columns).astype(int)\n",
    "    torch_tensor = torch.tensor(df1.values)\n",
    "    labels_again = torch.argmax(torch_tensor, dim=1)\n",
    "\n",
    "    labels_again = torch.argmax(torch_tensor, dim=1)\n",
    "\n",
    "    fin_seq = []\n",
    "    for i in (labels_again):\n",
    "        fin_seq.append(id_to_base[int(i)])\n",
    "    fin_seq = ''.join(fin_seq)\n",
    "    #ngs.append(fin_seq)\n",
    "    gener_set[fin_seq]=0\n"
   ]
  },
  {
   "cell_type": "code",
   "execution_count": 8,
   "metadata": {},
   "outputs": [],
   "source": [
    "gd = create_dataloader(gener_set)\n",
    "n_g = predict_vae_beta(gd,\"gd\")\n",
    "results_g = load_back_tensors(n_g,'results%s_%i.pt',\"gd\")"
   ]
  },
  {
   "cell_type": "code",
   "execution_count": 9,
   "metadata": {},
   "outputs": [],
   "source": [
    "#LOAD PREVIOUS RESULTS\n",
    "with open(\"./comp_results/random_backup_trained_np3_n\", \"rb\") as fp:\n",
    "   results_r = pickle.load(fp)\n",
    "with open(\"./comp_results/np1_backup_trained_np3_n\", 'rb') as fp:\n",
    "    results_np1 = pickle.load(fp)\n",
    "with open(\"./comp_results/b3_backup_trained_np3_n\", \"rb\") as fp: \n",
    "    results_b3 = pickle.load(fp)\n",
    "with open(\"./comp_results/t_backup_trained_np3_n\", \"rb\") as fp: \n",
    "    results_t = pickle.load(fp)\n",
    "with open(\"./comp_results/v_backup_trained_np3_n\", \"rb\") as fp: \n",
    "    results_v = pickle.load(fp)"
   ]
  },
  {
   "cell_type": "code",
   "execution_count": 10,
   "metadata": {},
   "outputs": [
    {
     "name": "stdout",
     "output_type": "stream",
     "text": [
      "0.8706171326954619\n",
      "1.007838285202071\n",
      "2.4725674467296406\n",
      "3.0083245253750994\n"
     ]
    }
   ],
   "source": [
    "def Average(lst):\n",
    "    print (sum(lst) / len(lst))\n",
    "\n",
    "Average(results_r)\n",
    "Average(results_g)\n",
    "Average(results_b3)\n",
    "Average(results_t)"
   ]
  },
  {
   "cell_type": "code",
   "execution_count": 11,
   "metadata": {},
   "outputs": [],
   "source": [
    "def normalisation_hist(seqs_likelihoods):\n",
    "    myarray = np.asarray(seqs_likelihoods)\n",
    "    weights = np.ones_like(myarray)/float(len(myarray))\n",
    "    return weights\n",
    "\n",
    "weights_rd = normalisation_hist(results_r)\n",
    "#weights_np3 = normalisation_hist(results_np3)\n",
    "weights_np1 = normalisation_hist(results_np1)\n",
    "weights_b3 = normalisation_hist(results_b3)\n",
    "weights_t = normalisation_hist(results_t)\n",
    "weights_v = normalisation_hist(results_v)\n",
    "weights_g = normalisation_hist(results_g)"
   ]
  },
  {
   "cell_type": "code",
   "execution_count": 12,
   "metadata": {},
   "outputs": [
    {
     "data": {
      "image/png": "[encoded data removed]",
      "text/plain": [
       "<Figure size 720x576 with 1 Axes>"
      ]
     },
     "metadata": {
      "needs_background": "light"
     },
     "output_type": "display_data"
    }
   ],
   "source": [
    "plt.figure(figsize=(10,8))\n",
    "plt.hist(results_b3,alpha=0.8,bins=200,label=\"b3_c2\", weights = weights_b3, color = \"maroon\", histtype='step');\n",
    "plt.hist(results_np1,alpha=0.6,bins=200,label=\"np1_c2\", weights = weights_np1, color = \"green\", histtype='step');\n",
    "#plt.hist(results_np3,alpha=0.5,bins=200,label=\"np3_c2\", weights = weights_np3, color = \"darkorange\", histtype='step');\n",
    "plt.hist(results_r,alpha=0.7,bins=200,label=\"random data\", weights = weights_rd, color=\"lightskyblue\", histtype='step');\n",
    "plt.hist(results_t,alpha=0.5,bins=200,label=\"training data\", weights = weights_t, color=\"grey\", histtype='step');\n",
    "plt.hist(results_v,alpha=0.5,bins=200,label=\"validation data\", weights = weights_v, color=\"red\", histtype='step');\n",
    "plt.hist(results_g,alpha=1,bins=200,label=\"generated data\", weights = weights_g, color=\"black\", histtype='step');\n",
    "\n",
    "\n",
    "plt.xlabel(\"probability of sequence\");\n",
    "plt.ylabel(\"count\")\n",
    "plt.title(\"trained on np3_c2: Histogram of probabilities - B=5\")\n",
    "plt.legend();\n",
    "plt.xticks(np.arange(min(results_b3), max(results_b3), 0.3));"
   ]
  },
  {
   "cell_type": "markdown",
   "metadata": {},
   "source": [
    "## \"pseudoMonteCarlo\" version"
   ]
  },
  {
   "cell_type": "code",
   "execution_count": 16,
   "metadata": {},
   "outputs": [],
   "source": [
    "#generate ranodm seq\n",
    "def create_random_set(set_size, seq_size):\n",
    "    random.seed(24)\n",
    "    random_set = {}\n",
    "    for _ in range(set_size):\n",
    "        sequence = ''.join(random.choice(\"ARNDCEQGHILKMFPSTWYV-\") for _ in range(seq_size))\n",
    "        random_set[sequence]=0\n",
    "    return random_set\n",
    "\n",
    "ran_s = create_random_set(1,45)"
   ]
  },
  {
   "cell_type": "code",
   "execution_count": 94,
   "metadata": {},
   "outputs": [],
   "source": [
    "#get the probability for that sequence\n",
    "def predict_vae_beta_gen(dataloader, rd):\n",
    "    n=0\n",
    "    for i, batch in enumerate(dataloader):\n",
    "        n=n+1\n",
    "        seqs, ohe, labels = batch\n",
    "        seq_aves = []\n",
    "        pred_aves = []\n",
    "        replicas = 2\n",
    "        for _ in range(replicas):\n",
    "            recon_x, inputs, mu, log_var, encode_attn_maps, decode_attn_maps = model(ohe)\n",
    "            seq_aves.append(recon_x)\n",
    "        xp = torch.mean(torch.stack(seq_aves, dim=0), dim=0)\n",
    "        \n",
    "        #xp_rn = reshape_normalize(xp)\n",
    "        #inputs_rn = reshape_normalize(inputs)\n",
    "        \n",
    "        #rd_result = get_results(xp_rn,inputs_rn)\n",
    "        rd_result = get_results(xp,inputs)\n",
    "    return rd_result\n",
    "\n",
    "rd = create_dataloader(ran_s)\n",
    "rslt = predict_vae_beta_gen(rd,\"rd\")"
   ]
  },
  {
   "cell_type": "code",
   "execution_count": 80,
   "metadata": {},
   "outputs": [
    {
     "name": "stdout",
     "output_type": "stream",
     "text": [
      "MYEQEQENCIAPP-DATESPISNHVELINW-KRQLLNIDGVCSIH\n",
      "{'MYEQEQENCIAPP-DATESPISNRVELINW-KRQLLNIDGVCSIH': 0}\n"
     ]
    }
   ],
   "source": [
    "# iteration process\n",
    "if rslt[0] > 2.5:\n",
    "    print(\"seq found\")\n",
    "else: \n",
    "    [[o_seq, val]] = ran_s.items()\n",
    "    print(o_seq)\n",
    "    pos = random.randint(0, 44)\n",
    "    aa = random.choice(\"ARNDCEQGHILKMFPSTWYV-\")\n",
    "    a_seq = o_seq[:pos] + aa + o_seq[pos+1:]\n",
    "    ran_sn = {a_seq:0}\n",
    "    print(ran_sn)\n",
    "    rd = create_dataloader(ran_s)\n",
    "    rslt = predict_vae_beta_gen(rd,\"rd\")"
   ]
  },
  {
   "cell_type": "code",
   "execution_count": null,
   "metadata": {},
   "outputs": [],
   "source": [
    "while rslt[0] < 2.0:\n",
    "    [[o_seq, val]] = ran_s.items()\n",
    "    #print(o_seq)\n",
    "    pos = random.randint(0, 44)\n",
    "    aa = random.choice(\"ARNDCEQGHILKMFPSTWYV-\")\n",
    "    a_seq = o_seq[:pos] + aa + o_seq[pos+1:]\n",
    "    ran_sn = {a_seq:0}\n",
    "    rd = create_dataloader(ran_s)\n",
    "    rslt_n = predict_vae_beta_gen(rd,\"rd\")\n",
    "    if rslt_n > rslt:\n",
    "        rslt = rslt_n\n",
    "        o_seq = a_seq\n",
    "        print(rslt)\n",
    "#Is very slow to iterate, I had to stop it after some time"
   ]
  }
 ],
 "metadata": {
  "interpreter": {
   "hash": "71aef617b3ae46aa929b1d84da02ce52444fb39cfbede611fe2ad7c74c6461c1"
  },
  "kernelspec": {
   "display_name": "Python 3.8.10 ('buba')",
   "language": "python",
   "name": "python3"
  },
  "language_info": {
   "codemirror_mode": {
    "name": "ipython",
    "version": 3
   },
   "file_extension": ".py",
   "mimetype": "text/x-python",
   "name": "python",
   "nbconvert_exporter": "python",
   "pygments_lexer": "ipython3",
   "version": "3.8.10"
  },
  "orig_nbformat": 4
 },
 "nbformat": 4,
 "nbformat_minor": 2
}
